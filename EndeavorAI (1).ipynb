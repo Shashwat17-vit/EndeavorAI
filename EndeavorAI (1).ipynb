{
  "cells": [
    {
      "cell_type": "code",
      "execution_count": 7,
      "metadata": {
        "colab": {
          "base_uri": "https://localhost:8080/"
        },
        "id": "wuea5FUXxT3y",
        "outputId": "b0a0d5e2-4a2c-44d8-a846-057f7c9ff559"
      },
      "outputs": [],
      "source": [
        "!pip install streamlit"
      ]
    },
    {
      "cell_type": "code",
      "execution_count": 2,
      "metadata": {
        "colab": {
          "base_uri": "https://localhost:8080/"
        },
        "id": "ojA9eTLlwDJp",
        "outputId": "27741fd7-5040-41d4-d81f-614cd1ffa61e"
      },
      "outputs": [],
      "source": [
        "!pip install langchain pypdf chromadb sentence-transformers\n",
        "!pip install -U langchain-community\n",
        "!pip install langchain-openai"
      ]
    },
    {
      "cell_type": "code",
      "execution_count": null,
      "metadata": {
        "id": "yu0VOLfW0E1R"
      },
      "outputs": [],
      "source": [
        "import os\n",
        "os.environ[\"OPENAI_API_KEY\"] = \"\""
      ]
    },
    {
      "cell_type": "code",
      "execution_count": 9,
      "metadata": {
        "colab": {
          "base_uri": "https://localhost:8080/",
          "height": 599
        },
        "id": "s2wFZBinxMM4",
        "outputId": "d707f93a-278e-44fa-fd16-96cd6a506ab5"
      },
      "outputs": [],
      "source": [
        "!streamlit run endeavor_ui.py"
      ]
    },
    {
      "cell_type": "code",
      "execution_count": 6,
      "metadata": {
        "colab": {
          "base_uri": "https://localhost:8080/",
          "height": 49,
          "referenced_widgets": [
            "05dba14216ad4f3b8e3c393537385472",
            "28bc50a71f484c24b2aa103fcdfe53bb",
            "1805dcdf15f044698eae76baa04a37b5"
          ]
        },
        "id": "DFL1ARBJfe5m",
        "outputId": "05ff6c3f-7e2a-4e9e-b673-cc56969ec854"
      },
      "outputs": [
        {
          "data": {
            "application/vnd.jupyter.widget-view+json": {
              "model_id": "1d0cb89e9f4642f59fb5a96f65d95739",
              "version_major": 2,
              "version_minor": 0
            },
            "text/plain": [
              "FileUpload(value=(), accept='.pdf,.docx,.txt', description='Upload')"
            ]
          },
          "metadata": {},
          "output_type": "display_data"
        }
      ],
      "source": [
        "# Step 1: Allow user to upload a document\n",
        "from IPython.display import display\n",
        "import ipywidgets as widgets\n",
        "\n",
        "# Create file upload widget\n",
        "upload_widget = widgets.FileUpload(accept='.pdf,.docx,.txt', multiple=False)\n",
        "display(upload_widget)\n",
        "\n",
        "# Step 2: Get the uploaded filename and content\n",
        "import io\n",
        "\n",
        "def handle_upload(change):\n",
        "    if upload_widget.value:\n",
        "        uploaded_file_info = list(upload_widget.value.values())[0]\n",
        "        uploaded_filename = uploaded_file_info['metadata']['name']\n",
        "        uploaded_content = uploaded_file_info['content']\n",
        "\n",
        "        # Optionally convert bytes to text (if .txt)\n",
        "        if uploaded_filename.endswith('.txt'):\n",
        "            content_text = uploaded_content.decode('utf-8')\n",
        "            print(\"Text content preview:\")\n",
        "            print(content_text[:500])  # Preview first 500 chars\n",
        "\n",
        "        print(f\"\\n✅ Uploaded file: {uploaded_filename}\")\n",
        "        globals()['uploaded_filename'] = uploaded_filename  # Store filename as a global variable\n",
        "\n",
        "# Trigger function when upload is done\n",
        "upload_widget.observe(handle_upload, names='value')"
      ]
    },
    {
      "cell_type": "markdown",
      "metadata": {
        "id": "Lf3KdsoaWXio"
      },
      "source": [
        "#APi\n"
      ]
    },
    {
      "cell_type": "code",
      "execution_count": 5,
      "metadata": {
        "colab": {
          "base_uri": "https://localhost:8080/"
        },
        "id": "WBENZxnuWaVt",
        "outputId": "c81d5d88-78a8-49e9-d393-d3cee0f256a0"
      },
      "outputs": [
        {
          "ename": "FileNotFoundError",
          "evalue": "[Errno 2] No such file or directory: '/content/Hard - 2.pdf'",
          "output_type": "error",
          "traceback": [
            "\u001b[1;31m---------------------------------------------------------------------------\u001b[0m",
            "\u001b[1;31mFileNotFoundError\u001b[0m                         Traceback (most recent call last)",
            "Cell \u001b[1;32mIn[5], line 6\u001b[0m\n\u001b[0;32m      3\u001b[0m url \u001b[38;5;241m=\u001b[39m \u001b[38;5;124m\"\u001b[39m\u001b[38;5;124mhttps://plankton-app-qajlk.ondigitalocean.app/extraction_api\u001b[39m\u001b[38;5;124m\"\u001b[39m\n\u001b[0;32m      4\u001b[0m pdf_path \u001b[38;5;241m=\u001b[39m \u001b[38;5;124m'\u001b[39m\u001b[38;5;124m/content/Hard - 2.pdf\u001b[39m\u001b[38;5;124m'\u001b[39m\n\u001b[1;32m----> 6\u001b[0m \u001b[38;5;28;01mwith\u001b[39;00m \u001b[38;5;28;43mopen\u001b[39;49m\u001b[43m(\u001b[49m\u001b[43mpdf_path\u001b[49m\u001b[43m,\u001b[49m\u001b[43m \u001b[49m\u001b[38;5;124;43m\"\u001b[39;49m\u001b[38;5;124;43mrb\u001b[39;49m\u001b[38;5;124;43m\"\u001b[39;49m\u001b[43m)\u001b[49m \u001b[38;5;28;01mas\u001b[39;00m f:\n\u001b[0;32m      7\u001b[0m     files \u001b[38;5;241m=\u001b[39m {\u001b[38;5;124m'\u001b[39m\u001b[38;5;124mfile\u001b[39m\u001b[38;5;124m'\u001b[39m: (pdf_path\u001b[38;5;241m.\u001b[39msplit(\u001b[38;5;124m\"\u001b[39m\u001b[38;5;124m/\u001b[39m\u001b[38;5;124m\"\u001b[39m)[\u001b[38;5;241m-\u001b[39m\u001b[38;5;241m1\u001b[39m], f, \u001b[38;5;124m'\u001b[39m\u001b[38;5;124mapplication/pdf\u001b[39m\u001b[38;5;124m'\u001b[39m)}\n\u001b[0;32m      8\u001b[0m     headers \u001b[38;5;241m=\u001b[39m {\u001b[38;5;124m'\u001b[39m\u001b[38;5;124maccept\u001b[39m\u001b[38;5;124m'\u001b[39m: \u001b[38;5;124m'\u001b[39m\u001b[38;5;124mapplication/json\u001b[39m\u001b[38;5;124m'\u001b[39m}\n",
            "File \u001b[1;32mc:\\Users\\Shashwat\\Desktop\\US Applications\\US\\Internship\\Machine Learning\\Data_Processing_and_Lib\\.venv\\Lib\\site-packages\\IPython\\core\\interactiveshell.py:324\u001b[0m, in \u001b[0;36m_modified_open\u001b[1;34m(file, *args, **kwargs)\u001b[0m\n\u001b[0;32m    317\u001b[0m \u001b[38;5;28;01mif\u001b[39;00m file \u001b[38;5;129;01min\u001b[39;00m {\u001b[38;5;241m0\u001b[39m, \u001b[38;5;241m1\u001b[39m, \u001b[38;5;241m2\u001b[39m}:\n\u001b[0;32m    318\u001b[0m     \u001b[38;5;28;01mraise\u001b[39;00m \u001b[38;5;167;01mValueError\u001b[39;00m(\n\u001b[0;32m    319\u001b[0m         \u001b[38;5;124mf\u001b[39m\u001b[38;5;124m\"\u001b[39m\u001b[38;5;124mIPython won\u001b[39m\u001b[38;5;124m'\u001b[39m\u001b[38;5;124mt let you open fd=\u001b[39m\u001b[38;5;132;01m{\u001b[39;00mfile\u001b[38;5;132;01m}\u001b[39;00m\u001b[38;5;124m by default \u001b[39m\u001b[38;5;124m\"\u001b[39m\n\u001b[0;32m    320\u001b[0m         \u001b[38;5;124m\"\u001b[39m\u001b[38;5;124mas it is likely to crash IPython. If you know what you are doing, \u001b[39m\u001b[38;5;124m\"\u001b[39m\n\u001b[0;32m    321\u001b[0m         \u001b[38;5;124m\"\u001b[39m\u001b[38;5;124myou can use builtins\u001b[39m\u001b[38;5;124m'\u001b[39m\u001b[38;5;124m open.\u001b[39m\u001b[38;5;124m\"\u001b[39m\n\u001b[0;32m    322\u001b[0m     )\n\u001b[1;32m--> 324\u001b[0m \u001b[38;5;28;01mreturn\u001b[39;00m \u001b[43mio_open\u001b[49m\u001b[43m(\u001b[49m\u001b[43mfile\u001b[49m\u001b[43m,\u001b[49m\u001b[43m \u001b[49m\u001b[38;5;241;43m*\u001b[39;49m\u001b[43margs\u001b[49m\u001b[43m,\u001b[49m\u001b[43m \u001b[49m\u001b[38;5;241;43m*\u001b[39;49m\u001b[38;5;241;43m*\u001b[39;49m\u001b[43mkwargs\u001b[49m\u001b[43m)\u001b[49m\n",
            "\u001b[1;31mFileNotFoundError\u001b[0m: [Errno 2] No such file or directory: '/content/Hard - 2.pdf'"
          ]
        }
      ],
      "source": [
        "import requests\n",
        "\n",
        "url = \"https://plankton-app-qajlk.ondigitalocean.app/extraction_api\"\n",
        "pdf_path = '/content/Hard - 2.pdf'\n",
        "\n",
        "with open(pdf_path, \"rb\") as f:\n",
        "    files = {'file': (pdf_path.split(\"/\")[-1], f, 'application/pdf')}\n",
        "    headers = {'accept': 'application/json'}\n",
        "\n",
        "    response = requests.post(url, files=files, headers=headers)\n",
        "\n",
        "# Output the response\n",
        "print(\"Status Code:\", response.status_code)\n",
        "print(\"Response JSON:\", response.json())"
      ]
    },
    {
      "cell_type": "code",
      "execution_count": null,
      "metadata": {
        "colab": {
          "base_uri": "https://localhost:8080/",
          "height": 211
        },
        "id": "Z-2V0JISXXXa",
        "outputId": "5bc5055f-5860-4ce8-ca7a-cfcf253e010b"
      },
      "outputs": [
        {
          "ename": "NameError",
          "evalue": "name '_name_' is not defined",
          "output_type": "error",
          "traceback": [
            "\u001b[0;31m---------------------------------------------------------------------------\u001b[0m",
            "\u001b[0;31mNameError\u001b[0m                                 Traceback (most recent call last)",
            "\u001b[0;32m<ipython-input-8-5fa551319b7b>\u001b[0m in \u001b[0;36m<cell line: 0>\u001b[0;34m()\u001b[0m\n\u001b[1;32m     26\u001b[0m \u001b[0;34m\u001b[0m\u001b[0m\n\u001b[1;32m     27\u001b[0m \u001b[0;31m# Example usage:\u001b[0m\u001b[0;34m\u001b[0m\u001b[0;34m\u001b[0m\u001b[0m\n\u001b[0;32m---> 28\u001b[0;31m \u001b[0;32mif\u001b[0m \u001b[0m_name_\u001b[0m \u001b[0;34m==\u001b[0m \u001b[0;34m\"_main_\"\u001b[0m\u001b[0;34m:\u001b[0m\u001b[0;34m\u001b[0m\u001b[0;34m\u001b[0m\u001b[0m\n\u001b[0m\u001b[1;32m     29\u001b[0m     \u001b[0mdesc\u001b[0m \u001b[0;34m=\u001b[0m \u001b[0;34m\"Steel Nut M4 10mm Zinc Plated Coarse\"\u001b[0m\u001b[0;34m\u001b[0m\u001b[0;34m\u001b[0m\u001b[0m\n\u001b[1;32m     30\u001b[0m     \u001b[0mtop_hit\u001b[0m \u001b[0;34m=\u001b[0m \u001b[0mget_first_match\u001b[0m\u001b[0;34m(\u001b[0m\u001b[0mdesc\u001b[0m\u001b[0;34m)\u001b[0m\u001b[0;34m\u001b[0m\u001b[0;34m\u001b[0m\u001b[0m\n",
            "\u001b[0;31mNameError\u001b[0m: name '_name_' is not defined"
          ]
        }
      ],
      "source": [
        "import requests\n",
        "from typing import Optional, Dict, Any\n",
        "\n",
        "def get_first_match(description: str, limit: int = 5) -> Optional[Dict[str, Any]]:\n",
        "    \"\"\"\n",
        "    Query the match API with the given document description and return the first result.\n",
        "\n",
        "    Args:\n",
        "        description: The document description to match (may contain spaces, etc.).\n",
        "        limit:       Number of results to request (default: 5).\n",
        "\n",
        "    Returns:\n",
        "        A dict with keys \"match\" and \"score\" for the top result, or None if no results.\n",
        "    \"\"\"\n",
        "    url = \"https://endeavor-interview-api-gzwki.ondigitalocean.app/match\"\n",
        "    params = {\n",
        "        \"query\": description,\n",
        "        \"limit\": limit\n",
        "    }\n",
        "    resp = requests.get(url, params=params)\n",
        "    resp.raise_for_status()  # will raise an HTTPError if the request failed\n",
        "    data = resp.json()\n",
        "    if not isinstance(data, list) or len(data) == 0:\n",
        "        return None\n",
        "    return data[0]\n",
        "\n",
        "# Example usage:\n",
        "if _name_ == \"_main_\":\n",
        "    desc = \"Steel Nut M4 10mm Zinc Plated Coarse\"\n",
        "    top_hit = get_first_match(desc)\n",
        "    if top_hit:\n",
        "        print(f\"Top match: {top_hit['match']} (score={top_hit['score']})\")\n",
        "    else:\n",
        "        print(\"No matches found.\")"
      ]
    },
    {
      "cell_type": "code",
      "execution_count": null,
      "metadata": {
        "colab": {
          "base_uri": "https://localhost:8080/"
        },
        "id": "2aNG0p47Xdb3",
        "outputId": "25ec157e-8428-4344-9d5a-b3856afc6645"
      },
      "outputs": [
        {
          "name": "stdout",
          "output_type": "stream",
          "text": [
            "✅ Successfully saved 2 rows to /content/output.csv\n"
          ]
        }
      ],
      "source": [
        "import requests\n",
        "import csv\n",
        "import sys\n",
        "\n",
        "def extract_pdf_to_csv(pdf_path: str, csv_path: str):\n",
        "    url = \"https://plankton-app-qajlk.ondigitalocean.app/extraction_api\"\n",
        "    with open(pdf_path, \"rb\") as f:\n",
        "        files = {'file': (pdf_path.split(\"/\")[-1], f, 'application/pdf')}\n",
        "        headers = {'accept': 'application/json'}\n",
        "\n",
        "        try:\n",
        "            resp = requests.post(url, files=files, headers=headers, timeout=60)\n",
        "            resp.raise_for_status()\n",
        "        except requests.exceptions.HTTPError as err:\n",
        "            # Try to read JSON error detail if present\n",
        "            try:\n",
        "                err_payload = resp.json()\n",
        "                if isinstance(err_payload, dict) and \"detail\" in err_payload:\n",
        "                    print(f\"Extraction failed: {err_payload['detail']}\", file=sys.stderr)\n",
        "                else:\n",
        "                    print(f\"HTTP error: {err}\", file=sys.stderr)\n",
        "                    print(\"Response body:\", resp.text, file=sys.stderr)\n",
        "            except ValueError:\n",
        "                print(f\"HTTP error: {err}\", file=sys.stderr)\n",
        "                print(\"Response body:\", resp.text, file=sys.stderr)\n",
        "            return\n",
        "\n",
        "        # parse JSON\n",
        "        try:\n",
        "            data = resp.json()\n",
        "        except ValueError:\n",
        "            print(\"❌ Response not valid JSON:\", resp.text, file=sys.stderr)\n",
        "            return\n",
        "\n",
        "    # handle error payload vs. data payload\n",
        "    if isinstance(data, dict) and \"detail\" in data:\n",
        "        print(f\"❌ Extraction error: {data['detail']}\", file=sys.stderr)\n",
        "        return\n",
        "\n",
        "    if not isinstance(data, list) or not data or not isinstance(data[0], dict):\n",
        "        print(\"❌ Unexpected response format, expected a list of dicts.\", file=sys.stderr)\n",
        "        print(\"Got:\", data, file=sys.stderr)\n",
        "        return\n",
        "# write CSV\n",
        "    with open(csv_path, \"w\", newline=\"\", encoding=\"utf-8\") as csvfile:\n",
        "        writer = csv.DictWriter(csvfile, fieldnames=data[0].keys())\n",
        "        writer.writeheader()\n",
        "        writer.writerows(data)\n",
        "\n",
        "    print(f\"✅ Successfully saved {len(data)} rows to {csv_path}\")\n",
        "\n",
        "\n",
        "extract_pdf_to_csv('/content/Hard - 2.pdf', '/content/output.csv')\n"
      ]
    },
    {
      "cell_type": "code",
      "execution_count": null,
      "metadata": {
        "colab": {
          "base_uri": "https://localhost:8080/",
          "height": 84,
          "referenced_widgets": [
            "f01d565d7f474201a45d802771f7eb6a",
            "b01dc56ef3be4b0fa498fa99e7eb9f01",
            "207164775dca4d3cb5c100700353b7c9"
          ]
        },
        "id": "mbgKzw_vhRZ_",
        "outputId": "fb56c777-bbcc-47ee-9cae-31c2e37ef756"
      },
      "outputs": [
        {
          "data": {
            "application/vnd.jupyter.widget-view+json": {
              "model_id": "f01d565d7f474201a45d802771f7eb6a",
              "version_major": 2,
              "version_minor": 0
            },
            "text/plain": [
              "FileUpload(value={}, accept='.pdf', description='Upload')"
            ]
          },
          "metadata": {},
          "output_type": "display_data"
        },
        {
          "name": "stdout",
          "output_type": "stream",
          "text": [
            "✅ Saved uploaded PDF to: /content/Hard - 2.pdf\n",
            "✅ CSV would be saved to: /content/Hard - 2.csv\n"
          ]
        }
      ],
      "source": [
        "import os\n",
        "import io\n",
        "import requests\n",
        "from IPython.display import display\n",
        "import ipywidgets as widgets\n",
        "# from my_module import extract_pdf_to_csv  # Uncomment if implemented\n",
        "\n",
        "# Upload widget\n",
        "upload_widget = widgets.FileUpload(accept='.pdf', multiple=False)\n",
        "display(upload_widget)\n",
        "\n",
        "# Global variable to store filename\n",
        "uploaded_filename = None  # this will hold the filename for access later\n",
        "\n",
        "def handle_upload(change):\n",
        "    global uploaded_filename  # make filename accessible globally\n",
        "\n",
        "    if upload_widget.value:\n",
        "        uploaded_file = list(upload_widget.value.values())[0]\n",
        "        uploaded_filename = uploaded_file['metadata']['name']\n",
        "        content = uploaded_file['content']\n",
        "\n",
        "        pdf_path = os.path.join(\"/content\", uploaded_filename)\n",
        "        csv_path = pdf_path.replace(\".pdf\", \".csv\")\n",
        "\n",
        "        with open(pdf_path, \"wb\") as f:\n",
        "            f.write(content)\n",
        "        print(f\"✅ Saved uploaded PDF to: {pdf_path}\")\n",
        "\n",
        "        # extract_pdf_to_csv(pdf_path, csv_path)  # Uncomment if defined\n",
        "        print(f\"✅ CSV would be saved to: {csv_path}\")\n",
        "\n",
        "# Attach the upload handler\n",
        "upload_widget.observe(handle_upload, names='value')\n"
      ]
    },
    {
      "cell_type": "code",
      "execution_count": null,
      "metadata": {
        "colab": {
          "base_uri": "https://localhost:8080/"
        },
        "id": "1UakrXvljcAs",
        "outputId": "e8c68ddf-f518-4027-c70f-d3d7fc865b27"
      },
      "outputs": [
        {
          "name": "stdout",
          "output_type": "stream",
          "text": [
            "Uploaded filename was: Hard - 2.pdf\n"
          ]
        }
      ],
      "source": [
        "print(\"Uploaded filename was:\", uploaded_filename)\n"
      ]
    },
    {
      "cell_type": "code",
      "execution_count": null,
      "metadata": {
        "colab": {
          "base_uri": "https://localhost:8080/"
        },
        "id": "CP0_SWvEiNPX",
        "outputId": "1f2d37b8-e75e-438c-8ec1-9923fe914e9d"
      },
      "outputs": [
        {
          "name": "stdout",
          "output_type": "stream",
          "text": [
            "0\n"
          ]
        }
      ],
      "source": []
    },
    {
      "cell_type": "code",
      "execution_count": null,
      "metadata": {
        "colab": {
          "base_uri": "https://localhost:8080/"
        },
        "id": "gm7w4MS3iH5n",
        "outputId": "e29da189-8df1-4f09-b69e-57bc1b3fb825"
      },
      "outputs": [
        {
          "name": "stdout",
          "output_type": "stream",
          "text": [
            "Status Code: 200\n",
            "Response JSON: [{'Line': 1, 'Product Code': 'zz_SODECK_7939', 'Manufacturer Code': 909854, 'Request Item': 'Titanium Washer M4 30mm Galvanized Fine', 'Quantity': '25 ea', 'Price': 90.866, 'Per': 'ea', 'Total': '2,271.65'}, {'Line': 2, 'Product Code': 'zz_SODECK_7940', 'Manufacturer Code': 852248, 'Request Item': 'Aluminum Stud M4 30mm Uncoated Coarse', 'Quantity': '8 ea', 'Price': 57.04, 'Per': 'ea', 'Total': '456.32'}]\n"
          ]
        }
      ],
      "source": [
        "import requests\n",
        "\n",
        "url = \"https://plankton-app-qajlk.ondigitalocean.app/extraction_api\"\n",
        "pdf_path = uploaded_filename\n",
        "\n",
        "with open(pdf_path, \"rb\") as f:\n",
        "    files = {'file': (pdf_path.split(\"/\")[-1], f, 'application/pdf')}\n",
        "    headers = {'accept': 'application/json'}\n",
        "\n",
        "    response = requests.post(url, files=files, headers=headers)\n",
        "\n",
        "# Output the response\n",
        "print(\"Status Code:\", response.status_code)\n",
        "print(\"Response JSON:\", response.json())"
      ]
    },
    {
      "cell_type": "code",
      "execution_count": null,
      "metadata": {
        "colab": {
          "base_uri": "https://localhost:8080/"
        },
        "id": "XeXHQOnOlkDd",
        "outputId": "ea2b1d2a-1213-4575-aa7a-1a54316be6a9"
      },
      "outputs": [
        {
          "name": "stdout",
          "output_type": "stream",
          "text": [
            "\n",
            "🔍 Matching item 1: 'Titanium Washer M4 30mm Galvanized Fine'\n",
            "✅ Match: Titanium Washer M4 30mm Galvanized Fine (Score: 100.0)\n",
            "\n",
            "🔍 Matching item 2: 'Aluminum Stud M4 30mm Uncoated Coarse'\n",
            "✅ Match: Aluminum Stud M4 30mm Uncoated Coarse (Score: 100.0)\n",
            "\n",
            "✅ Updated JSON saved to: updated_line_items.json\n"
          ]
        }
      ],
      "source": [
        "import json\n",
        "def get_first_match(description: str, limit: int = 5) -> Optional[Dict[str, Any]]:\n",
        "    match_url = \"https://endeavor-interview-api-gzwki.ondigitalocean.app/match\"\n",
        "    params = {\"query\": description, \"limit\": limit}\n",
        "    resp = requests.get(match_url, params=params)\n",
        "    resp.raise_for_status()\n",
        "    data = resp.json()\n",
        "    if not isinstance(data, list) or len(data) == 0:\n",
        "        return None\n",
        "    return data[0]\n",
        "\n",
        "\n",
        "# Step 1: Extract JSON from API response\n",
        "line_items = response.json()  # This is a list of dictionaries\n",
        "\n",
        "# Step 2: Match each item and update the dictionary\n",
        "for idx, item in enumerate(line_items):\n",
        "    description = item.get(\"Request Item\") or item.get(\"request item\") or \"\"\n",
        "\n",
        "    if not description:\n",
        "        print(f\"Item {idx+1}: No 'Request Item' found.\")\n",
        "        item[\"Matched Item\"] = None\n",
        "        item[\"Match Score\"] = None\n",
        "        continue\n",
        "\n",
        "    print(f\"\\n🔍 Matching item {idx+1}: '{description}'\")\n",
        "    match = get_first_match(description)\n",
        "\n",
        "    if match:\n",
        "        item[\"Matched Item\"] = match[\"match\"]\n",
        "        item[\"Match Score\"] = match[\"score\"]\n",
        "        print(f\"✅ Match: {match['match']} (Score: {match['score']})\")\n",
        "    else:\n",
        "        item[\"Matched Item\"] = None\n",
        "        item[\"Match Score\"] = None\n",
        "        print(\"❌ No match found.\")\n",
        "\n",
        "# Step 3: Save the updated JSON (optional)\n",
        "updated_json_path = \"updated_line_items.json\"\n",
        "with open(updated_json_path, \"w\") as f:\n",
        "    json.dump(line_items, f, indent=2)\n",
        "\n",
        "print(f\"\\n✅ Updated JSON saved to: {updated_json_path}\")"
      ]
    },
    {
      "cell_type": "code",
      "execution_count": null,
      "metadata": {
        "colab": {
          "base_uri": "https://localhost:8080/",
          "height": 84,
          "referenced_widgets": [
            "c59888d0d25f4352a3379e28e7c55cc4",
            "6a415d3e404c44d8b45bea872781d6b0",
            "a0e38d24d0b949ca8e6aa3de0c8e0b3e",
            "19c9a6a9a86c4c0c90890936e255acb5",
            "6854cb3070324615aa3395845cf4b789",
            "71aa20d7b9cc4211882a95064fffc62c",
            "157b9dde835e40068e0b3b0f9b702fc7",
            "8d3ff358d6294159b1f8795a32013ee1",
            "20bc970b4e9645d9b4675968ba29abab",
            "0c69548722ea43a78b20b83152fd4160",
            "c365668b8f444116ab3871a55049eb4a",
            "00ae821275c141039fcc8a974db56a85",
            "b5c273b95e58413e884e0838f99d89f6",
            "7bdfed3eaccf44aca01626ead0bfea89",
            "9bad4aabf1f845f181bbe6c13e018842",
            "3635e328aa3e43d0ad2602c3c99f176b",
            "18fc2b1e093c440d9de2449050a0ee79",
            "0701d3c544914885949137c1487a518e"
          ]
        },
        "id": "ooBpNiX9muv4",
        "outputId": "e3ff06a3-e326-46fa-bc75-87f8cd5b06d1"
      },
      "outputs": [
        {
          "data": {
            "application/vnd.jupyter.widget-view+json": {
              "model_id": "c59888d0d25f4352a3379e28e7c55cc4",
              "version_major": 2,
              "version_minor": 0
            },
            "text/plain": [
              "Output()"
            ]
          },
          "metadata": {},
          "output_type": "display_data"
        }
      ],
      "source": [
        "import requests\n",
        "from typing import Optional, Dict, Any\n",
        "import ipywidgets as widgets\n",
        "from IPython.display import display, clear_output\n",
        "\n",
        "# 1. Define the match API call\n",
        "def get_first_match(description: str, limit: int = 5) -> Optional[Dict[str, Any]]:\n",
        "    match_url = \"https://endeavor-interview-api-gzwki.ondigitalocean.app/match\"\n",
        "    params = {\"query\": description, \"limit\": limit}\n",
        "    resp = requests.get(match_url, params=params)\n",
        "    resp.raise_for_status()\n",
        "    data = resp.json()\n",
        "    if not isinstance(data, list) or len(data) == 0:\n",
        "        return None\n",
        "    return data[0]\n",
        "\n",
        "# 2. Store response from extraction API (already done before)\n",
        "line_items = response.json()\n",
        "\n",
        "# 3. Helper: Process each item one-by-one interactively\n",
        "def process_items_interactively(items):\n",
        "    index = 0  # Start from first item\n",
        "\n",
        "    # Output widget to manage dynamic display\n",
        "    out = widgets.Output()\n",
        "    display(out)\n",
        "\n",
        "    def show_next():\n",
        "        nonlocal index  # Use nonlocal to modify the index from the outer function\n",
        "        if index >= len(items):\n",
        "            with out:\n",
        "                clear_output()\n",
        "                print(\"✅ All items processed.\")\n",
        "            return\n",
        "\n",
        "        item = items[index]\n",
        "        description = item.get(\"Request Item\") or item.get(\"request item\") or \"\"\n",
        "        match_result = get_first_match(description)\n",
        "\n",
        "        # Default to None in case of no match\n",
        "        match_name = match_result[\"match\"] if match_result else \"No match found\"\n",
        "        match_score = match_result[\"score\"] if match_result else None\n",
        "\n",
        "        # UI elements\n",
        "        yes_button = widgets.Button(description=\"Yes\", button_style='success')\n",
        "        no_button = widgets.Button(description=\"No\", button_style='danger')\n",
        "        corrected_input = widgets.Text(placeholder='Enter correct match here')\n",
        "        submit_button = widgets.Button(description=\"Submit Correction\", button_style='primary')\n",
        "        correction_box = widgets.VBox([corrected_input, submit_button])\n",
        "        correction_box.layout.visibility = 'hidden'  # Initially hidden\n",
        "\n",
        "        with out:\n",
        "            clear_output()\n",
        "            print(f\"🔍 Item {index+1}: {description}\")\n",
        "            print(f\"💡 Suggested Match: {match_name} (Score: {match_score})\")\n",
        "            display(widgets.HBox([yes_button, no_button]), correction_box)\n",
        "\n",
        "        # Button callbacks\n",
        "        def handle_yes(b):\n",
        "            nonlocal index  # Declare nonlocal for index in this function\n",
        "            # Update the 'Request Item' with the suggested match\n",
        "            item[\"Request Item\"] = match_name\n",
        "            item[\"Match Score\"] = match_score\n",
        "            index += 1\n",
        "            show_next()\n",
        "\n",
        "        def handle_no(b):\n",
        "            # Show the correction input box when \"No\" is clicked\n",
        "            correction_box.layout.visibility = 'visible'\n",
        "\n",
        "        def handle_submit(b):\n",
        "            nonlocal index  # Declare nonlocal for index in this function\n",
        "            corrected = corrected_input.value.strip()\n",
        "            if corrected:\n",
        "                # Update 'Request Item' with the corrected value\n",
        "                item[\"Request Item\"] = corrected\n",
        "                item[\"Match Score\"] = \"User Corrected\"\n",
        "                # After correction, update the item and proceed to the next one\n",
        "                index += 1\n",
        "                show_next()\n",
        "\n",
        "        yes_button.on_click(handle_yes)\n",
        "        no_button.on_click(handle_no)\n",
        "        submit_button.on_click(handle_submit)\n",
        "\n",
        "    # Start interaction\n",
        "    show_next()\n",
        "\n",
        "# 4. Call the function to start\n",
        "process_items_interactively(line_items)"
      ]
    },
    {
      "cell_type": "code",
      "execution_count": null,
      "metadata": {
        "colab": {
          "base_uri": "https://localhost:8080/"
        },
        "id": "ZXKLz9Q4rZ6I",
        "outputId": "5a1cb782-57f7-48f1-b838-0e9c0386ebf2"
      },
      "outputs": [
        {
          "name": "stderr",
          "output_type": "stream",
          "text": [
            "2025-04-29 22:33:54.551 WARNING streamlit.runtime.scriptrunner_utils.script_run_context: Thread 'MainThread': missing ScriptRunContext! This warning can be ignored when running in bare mode.\n",
            "2025-04-29 22:33:54.654 \n",
            "  \u001b[33m\u001b[1mWarning:\u001b[0m to view this Streamlit app on a browser, run it with the following\n",
            "  command:\n",
            "\n",
            "    streamlit run /usr/local/lib/python3.11/dist-packages/colab_kernel_launcher.py [ARGUMENTS]\n",
            "2025-04-29 22:33:54.656 Thread 'MainThread': missing ScriptRunContext! This warning can be ignored when running in bare mode.\n",
            "2025-04-29 22:33:54.658 Thread 'MainThread': missing ScriptRunContext! This warning can be ignored when running in bare mode.\n",
            "2025-04-29 22:33:54.658 Thread 'MainThread': missing ScriptRunContext! This warning can be ignored when running in bare mode.\n",
            "2025-04-29 22:33:54.659 Thread 'MainThread': missing ScriptRunContext! This warning can be ignored when running in bare mode.\n",
            "2025-04-29 22:33:54.660 Thread 'MainThread': missing ScriptRunContext! This warning can be ignored when running in bare mode.\n",
            "2025-04-29 22:33:54.661 Thread 'MainThread': missing ScriptRunContext! This warning can be ignored when running in bare mode.\n"
          ]
        }
      ],
      "source": [
        "import streamlit as st\n",
        "import requests\n",
        "import json\n",
        "import csv\n",
        "import os\n",
        "from typing import Optional, Dict, Any\n",
        "\n",
        "EXTRACTION_API_URL = \"https://plankton-app-qajlk.ondigitalocean.app/extraction_api\"\n",
        "MATCH_API_URL = \"https://endeavor-interview-api-gzwki.ondigitalocean.app/match\"\n",
        "\n",
        "def extract_pdf_content(file) -> Optional[list]:\n",
        "    files = {'file': (file.name, file, 'application/pdf')}\n",
        "    headers = {'accept': 'application/json'}\n",
        "    try:\n",
        "        response = requests.post(EXTRACTION_API_URL, files=files, headers=headers)\n",
        "        response.raise_for_status()\n",
        "        data = response.json()\n",
        "        if isinstance(data, list):\n",
        "            return data\n",
        "        else:\n",
        "            st.error(\"Unexpected response format from extraction API.\")\n",
        "            return None\n",
        "    except requests.exceptions.RequestException as e:\n",
        "        st.error(f\"Error calling extraction API: {e}\")\n",
        "        return None\n",
        "\n",
        "def get_first_match(description: str, limit: int = 5) -> Optional[Dict[str, Any]]:\n",
        "    params = {\"query\": description, \"limit\": limit}\n",
        "    try:\n",
        "        response = requests.get(MATCH_API_URL, params=params)\n",
        "        response.raise_for_status()\n",
        "        data = response.json()\n",
        "        if isinstance(data, list) and len(data) > 0:\n",
        "            return data[0]\n",
        "        else:\n",
        "            return None\n",
        "    except requests.exceptions.RequestException as e:\n",
        "        st.error(f\"Error calling match API: {e}\")\n",
        "        return None\n",
        "\n",
        "def save_csv(data, output_path=\"output.csv\"):\n",
        "    with open(output_path, \"w\", newline=\"\", encoding=\"utf-8\") as f:\n",
        "        writer = csv.DictWriter(f, fieldnames=data[0].keys())\n",
        "        writer.writeheader()\n",
        "        writer.writerows(data)\n",
        "    return output_path\n",
        "\n",
        "def main():\n",
        "    st.title(\"📄 Endeavor AI - PDF Extractor and Matcher\")\n",
        "    uploaded_file = st.file_uploader(\"Upload a PDF file\", type=[\"pdf\"])\n",
        "\n",
        "    if uploaded_file:\n",
        "        with st.spinner(\"Extracting data from PDF...\"):\n",
        "            line_items = extract_pdf_content(uploaded_file)\n",
        "\n",
        "        if line_items:\n",
        "            st.success(f\"✅ Extracted {len(line_items)} line items.\")\n",
        "            updated_items = []\n",
        "\n",
        "            for idx, item in enumerate(line_items):\n",
        "                st.markdown(f\"### 🔍 Item {idx + 1}\")\n",
        "                description = item.get(\"Request Item\") or item.get(\"request item\") or \"\"\n",
        "                st.write(f\"**Description:** {description}\")\n",
        "\n",
        "                match_result = get_first_match(description)\n",
        "                suggested = match_result[\"match\"] if match_result else \"No match found\"\n",
        "                score = match_result[\"score\"] if match_result else None\n",
        "                st.write(f\"**Suggested Match:** {suggested}\")\n",
        "                st.write(f\"**Score:** {score}\")\n",
        "\n",
        "                choice = st.radio(f\"Accept suggestion for item {idx + 1}?\", [\"Yes\", \"No\"], key=idx)\n",
        "                if choice == \"Yes\":\n",
        "                    item[\"Matched Item\"] = suggested\n",
        "                    item[\"Match Score\"] = score\n",
        "                else:\n",
        "                    corrected = st.text_input(f\"Enter corrected match for item {idx + 1}\", key=f\"corrected_{idx}\")\n",
        "                    if corrected:\n",
        "                        item[\"Matched Item\"] = corrected\n",
        "                        item[\"Match Score\"] = \"User Corrected\"\n",
        "                    else:\n",
        "                        item[\"Matched Item\"] = None\n",
        "                        item[\"Match Score\"] = None\n",
        "\n",
        "                updated_items.append(item)\n",
        "\n",
        "            if st.button(\"💾 Save Output\"):\n",
        "                json_path = \"updated_line_items.json\"\n",
        "                csv_path = \"output.csv\"\n",
        "\n",
        "                with open(json_path, \"w\") as f:\n",
        "                    json.dump(updated_items, f, indent=2)\n",
        "\n",
        "                save_csv(updated_items, csv_path)\n",
        "                st.success(f\"✅ Saved results to `{json_path}` and `{csv_path}`\")\n",
        "\n",
        "                with open(json_path, \"rb\") as f:\n",
        "                    st.download_button(\"Download JSON\", f, file_name=json_path)\n",
        "\n",
        "                with open(csv_path, \"rb\") as f:\n",
        "                    st.download_button(\"Download CSV\", f, file_name=csv_path)\n",
        "\n",
        "if __name__ == \"__main__\":\n",
        "    main()\n"
      ]
    }
  ],
  "metadata": {
    "accelerator": "GPU",
    "colab": {
      "gpuType": "T4",
      "provenance": []
    },
    "kernelspec": {
      "display_name": ".venv",
      "language": "python",
      "name": "python3"
    },
    "language_info": {
      "codemirror_mode": {
        "name": "ipython",
        "version": 3
      },
      "file_extension": ".py",
      "mimetype": "text/x-python",
      "name": "python",
      "nbconvert_exporter": "python",
      "pygments_lexer": "ipython3",
      "version": "3.12.5"
    },
    "widgets": {
      "application/vnd.jupyter.widget-state+json": {
        "00ae821275c141039fcc8a974db56a85": {
          "model_module": "@jupyter-widgets/controls",
          "model_module_version": "1.5.0",
          "model_name": "TextModel",
          "state": {
            "_dom_classes": [],
            "_model_module": "@jupyter-widgets/controls",
            "_model_module_version": "1.5.0",
            "_model_name": "TextModel",
            "_view_count": null,
            "_view_module": "@jupyter-widgets/controls",
            "_view_module_version": "1.5.0",
            "_view_name": "TextView",
            "continuous_update": true,
            "description": "",
            "description_tooltip": null,
            "disabled": false,
            "layout": "IPY_MODEL_9bad4aabf1f845f181bbe6c13e018842",
            "placeholder": "Enter correct match here",
            "style": "IPY_MODEL_3635e328aa3e43d0ad2602c3c99f176b",
            "value": ""
          }
        },
        "05dba14216ad4f3b8e3c393537385472": {
          "model_module": "@jupyter-widgets/controls",
          "model_module_version": "1.5.0",
          "model_name": "FileUploadModel",
          "state": {
            "_counter": 0,
            "_dom_classes": [],
            "_model_module": "@jupyter-widgets/controls",
            "_model_module_version": "1.5.0",
            "_model_name": "FileUploadModel",
            "_view_count": null,
            "_view_module": "@jupyter-widgets/controls",
            "_view_module_version": "1.5.0",
            "_view_name": "FileUploadView",
            "accept": ".pdf,.docx,.txt",
            "button_style": "",
            "data": [],
            "description": "Upload",
            "description_tooltip": null,
            "disabled": false,
            "error": "",
            "icon": "upload",
            "layout": "IPY_MODEL_28bc50a71f484c24b2aa103fcdfe53bb",
            "metadata": [],
            "multiple": false,
            "style": "IPY_MODEL_1805dcdf15f044698eae76baa04a37b5"
          }
        },
        "0701d3c544914885949137c1487a518e": {
          "model_module": "@jupyter-widgets/controls",
          "model_module_version": "1.5.0",
          "model_name": "ButtonStyleModel",
          "state": {
            "_model_module": "@jupyter-widgets/controls",
            "_model_module_version": "1.5.0",
            "_model_name": "ButtonStyleModel",
            "_view_count": null,
            "_view_module": "@jupyter-widgets/base",
            "_view_module_version": "1.2.0",
            "_view_name": "StyleView",
            "button_color": null,
            "font_weight": ""
          }
        },
        "0c69548722ea43a78b20b83152fd4160": {
          "model_module": "@jupyter-widgets/controls",
          "model_module_version": "1.5.0",
          "model_name": "ButtonStyleModel",
          "state": {
            "_model_module": "@jupyter-widgets/controls",
            "_model_module_version": "1.5.0",
            "_model_name": "ButtonStyleModel",
            "_view_count": null,
            "_view_module": "@jupyter-widgets/base",
            "_view_module_version": "1.2.0",
            "_view_name": "StyleView",
            "button_color": null,
            "font_weight": ""
          }
        },
        "157b9dde835e40068e0b3b0f9b702fc7": {
          "model_module": "@jupyter-widgets/base",
          "model_module_version": "1.2.0",
          "model_name": "LayoutModel",
          "state": {
            "_model_module": "@jupyter-widgets/base",
            "_model_module_version": "1.2.0",
            "_model_name": "LayoutModel",
            "_view_count": null,
            "_view_module": "@jupyter-widgets/base",
            "_view_module_version": "1.2.0",
            "_view_name": "LayoutView",
            "align_content": null,
            "align_items": null,
            "align_self": null,
            "border": null,
            "bottom": null,
            "display": null,
            "flex": null,
            "flex_flow": null,
            "grid_area": null,
            "grid_auto_columns": null,
            "grid_auto_flow": null,
            "grid_auto_rows": null,
            "grid_column": null,
            "grid_gap": null,
            "grid_row": null,
            "grid_template_areas": null,
            "grid_template_columns": null,
            "grid_template_rows": null,
            "height": null,
            "justify_content": null,
            "justify_items": null,
            "left": null,
            "margin": null,
            "max_height": null,
            "max_width": null,
            "min_height": null,
            "min_width": null,
            "object_fit": null,
            "object_position": null,
            "order": null,
            "overflow": null,
            "overflow_x": null,
            "overflow_y": null,
            "padding": null,
            "right": null,
            "top": null,
            "visibility": null,
            "width": null
          }
        },
        "1805dcdf15f044698eae76baa04a37b5": {
          "model_module": "@jupyter-widgets/controls",
          "model_module_version": "1.5.0",
          "model_name": "ButtonStyleModel",
          "state": {
            "_model_module": "@jupyter-widgets/controls",
            "_model_module_version": "1.5.0",
            "_model_name": "ButtonStyleModel",
            "_view_count": null,
            "_view_module": "@jupyter-widgets/base",
            "_view_module_version": "1.2.0",
            "_view_name": "StyleView",
            "button_color": null,
            "font_weight": ""
          }
        },
        "18fc2b1e093c440d9de2449050a0ee79": {
          "model_module": "@jupyter-widgets/base",
          "model_module_version": "1.2.0",
          "model_name": "LayoutModel",
          "state": {
            "_model_module": "@jupyter-widgets/base",
            "_model_module_version": "1.2.0",
            "_model_name": "LayoutModel",
            "_view_count": null,
            "_view_module": "@jupyter-widgets/base",
            "_view_module_version": "1.2.0",
            "_view_name": "LayoutView",
            "align_content": null,
            "align_items": null,
            "align_self": null,
            "border": null,
            "bottom": null,
            "display": null,
            "flex": null,
            "flex_flow": null,
            "grid_area": null,
            "grid_auto_columns": null,
            "grid_auto_flow": null,
            "grid_auto_rows": null,
            "grid_column": null,
            "grid_gap": null,
            "grid_row": null,
            "grid_template_areas": null,
            "grid_template_columns": null,
            "grid_template_rows": null,
            "height": null,
            "justify_content": null,
            "justify_items": null,
            "left": null,
            "margin": null,
            "max_height": null,
            "max_width": null,
            "min_height": null,
            "min_width": null,
            "object_fit": null,
            "object_position": null,
            "order": null,
            "overflow": null,
            "overflow_x": null,
            "overflow_y": null,
            "padding": null,
            "right": null,
            "top": null,
            "visibility": null,
            "width": null
          }
        },
        "19c9a6a9a86c4c0c90890936e255acb5": {
          "model_module": "@jupyter-widgets/controls",
          "model_module_version": "1.5.0",
          "model_name": "ButtonModel",
          "state": {
            "_dom_classes": [],
            "_model_module": "@jupyter-widgets/controls",
            "_model_module_version": "1.5.0",
            "_model_name": "ButtonModel",
            "_view_count": null,
            "_view_module": "@jupyter-widgets/controls",
            "_view_module_version": "1.5.0",
            "_view_name": "ButtonView",
            "button_style": "success",
            "description": "Yes",
            "disabled": false,
            "icon": "",
            "layout": "IPY_MODEL_157b9dde835e40068e0b3b0f9b702fc7",
            "style": "IPY_MODEL_8d3ff358d6294159b1f8795a32013ee1",
            "tooltip": ""
          }
        },
        "207164775dca4d3cb5c100700353b7c9": {
          "model_module": "@jupyter-widgets/controls",
          "model_module_version": "1.5.0",
          "model_name": "ButtonStyleModel",
          "state": {
            "_model_module": "@jupyter-widgets/controls",
            "_model_module_version": "1.5.0",
            "_model_name": "ButtonStyleModel",
            "_view_count": null,
            "_view_module": "@jupyter-widgets/base",
            "_view_module_version": "1.2.0",
            "_view_name": "StyleView",
            "button_color": null,
            "font_weight": ""
          }
        },
        "20bc970b4e9645d9b4675968ba29abab": {
          "model_module": "@jupyter-widgets/base",
          "model_module_version": "1.2.0",
          "model_name": "LayoutModel",
          "state": {
            "_model_module": "@jupyter-widgets/base",
            "_model_module_version": "1.2.0",
            "_model_name": "LayoutModel",
            "_view_count": null,
            "_view_module": "@jupyter-widgets/base",
            "_view_module_version": "1.2.0",
            "_view_name": "LayoutView",
            "align_content": null,
            "align_items": null,
            "align_self": null,
            "border": null,
            "bottom": null,
            "display": null,
            "flex": null,
            "flex_flow": null,
            "grid_area": null,
            "grid_auto_columns": null,
            "grid_auto_flow": null,
            "grid_auto_rows": null,
            "grid_column": null,
            "grid_gap": null,
            "grid_row": null,
            "grid_template_areas": null,
            "grid_template_columns": null,
            "grid_template_rows": null,
            "height": null,
            "justify_content": null,
            "justify_items": null,
            "left": null,
            "margin": null,
            "max_height": null,
            "max_width": null,
            "min_height": null,
            "min_width": null,
            "object_fit": null,
            "object_position": null,
            "order": null,
            "overflow": null,
            "overflow_x": null,
            "overflow_y": null,
            "padding": null,
            "right": null,
            "top": null,
            "visibility": null,
            "width": null
          }
        },
        "28bc50a71f484c24b2aa103fcdfe53bb": {
          "model_module": "@jupyter-widgets/base",
          "model_module_version": "1.2.0",
          "model_name": "LayoutModel",
          "state": {
            "_model_module": "@jupyter-widgets/base",
            "_model_module_version": "1.2.0",
            "_model_name": "LayoutModel",
            "_view_count": null,
            "_view_module": "@jupyter-widgets/base",
            "_view_module_version": "1.2.0",
            "_view_name": "LayoutView",
            "align_content": null,
            "align_items": null,
            "align_self": null,
            "border": null,
            "bottom": null,
            "display": null,
            "flex": null,
            "flex_flow": null,
            "grid_area": null,
            "grid_auto_columns": null,
            "grid_auto_flow": null,
            "grid_auto_rows": null,
            "grid_column": null,
            "grid_gap": null,
            "grid_row": null,
            "grid_template_areas": null,
            "grid_template_columns": null,
            "grid_template_rows": null,
            "height": null,
            "justify_content": null,
            "justify_items": null,
            "left": null,
            "margin": null,
            "max_height": null,
            "max_width": null,
            "min_height": null,
            "min_width": null,
            "object_fit": null,
            "object_position": null,
            "order": null,
            "overflow": null,
            "overflow_x": null,
            "overflow_y": null,
            "padding": null,
            "right": null,
            "top": null,
            "visibility": null,
            "width": null
          }
        },
        "3635e328aa3e43d0ad2602c3c99f176b": {
          "model_module": "@jupyter-widgets/controls",
          "model_module_version": "1.5.0",
          "model_name": "DescriptionStyleModel",
          "state": {
            "_model_module": "@jupyter-widgets/controls",
            "_model_module_version": "1.5.0",
            "_model_name": "DescriptionStyleModel",
            "_view_count": null,
            "_view_module": "@jupyter-widgets/base",
            "_view_module_version": "1.2.0",
            "_view_name": "StyleView",
            "description_width": ""
          }
        },
        "6854cb3070324615aa3395845cf4b789": {
          "model_module": "@jupyter-widgets/controls",
          "model_module_version": "1.5.0",
          "model_name": "ButtonModel",
          "state": {
            "_dom_classes": [],
            "_model_module": "@jupyter-widgets/controls",
            "_model_module_version": "1.5.0",
            "_model_name": "ButtonModel",
            "_view_count": null,
            "_view_module": "@jupyter-widgets/controls",
            "_view_module_version": "1.5.0",
            "_view_name": "ButtonView",
            "button_style": "danger",
            "description": "No",
            "disabled": false,
            "icon": "",
            "layout": "IPY_MODEL_20bc970b4e9645d9b4675968ba29abab",
            "style": "IPY_MODEL_0c69548722ea43a78b20b83152fd4160",
            "tooltip": ""
          }
        },
        "6a415d3e404c44d8b45bea872781d6b0": {
          "model_module": "@jupyter-widgets/base",
          "model_module_version": "1.2.0",
          "model_name": "LayoutModel",
          "state": {
            "_model_module": "@jupyter-widgets/base",
            "_model_module_version": "1.2.0",
            "_model_name": "LayoutModel",
            "_view_count": null,
            "_view_module": "@jupyter-widgets/base",
            "_view_module_version": "1.2.0",
            "_view_name": "LayoutView",
            "align_content": null,
            "align_items": null,
            "align_self": null,
            "border": null,
            "bottom": null,
            "display": null,
            "flex": null,
            "flex_flow": null,
            "grid_area": null,
            "grid_auto_columns": null,
            "grid_auto_flow": null,
            "grid_auto_rows": null,
            "grid_column": null,
            "grid_gap": null,
            "grid_row": null,
            "grid_template_areas": null,
            "grid_template_columns": null,
            "grid_template_rows": null,
            "height": null,
            "justify_content": null,
            "justify_items": null,
            "left": null,
            "margin": null,
            "max_height": null,
            "max_width": null,
            "min_height": null,
            "min_width": null,
            "object_fit": null,
            "object_position": null,
            "order": null,
            "overflow": null,
            "overflow_x": null,
            "overflow_y": null,
            "padding": null,
            "right": null,
            "top": null,
            "visibility": null,
            "width": null
          }
        },
        "71aa20d7b9cc4211882a95064fffc62c": {
          "model_module": "@jupyter-widgets/base",
          "model_module_version": "1.2.0",
          "model_name": "LayoutModel",
          "state": {
            "_model_module": "@jupyter-widgets/base",
            "_model_module_version": "1.2.0",
            "_model_name": "LayoutModel",
            "_view_count": null,
            "_view_module": "@jupyter-widgets/base",
            "_view_module_version": "1.2.0",
            "_view_name": "LayoutView",
            "align_content": null,
            "align_items": null,
            "align_self": null,
            "border": null,
            "bottom": null,
            "display": null,
            "flex": null,
            "flex_flow": null,
            "grid_area": null,
            "grid_auto_columns": null,
            "grid_auto_flow": null,
            "grid_auto_rows": null,
            "grid_column": null,
            "grid_gap": null,
            "grid_row": null,
            "grid_template_areas": null,
            "grid_template_columns": null,
            "grid_template_rows": null,
            "height": null,
            "justify_content": null,
            "justify_items": null,
            "left": null,
            "margin": null,
            "max_height": null,
            "max_width": null,
            "min_height": null,
            "min_width": null,
            "object_fit": null,
            "object_position": null,
            "order": null,
            "overflow": null,
            "overflow_x": null,
            "overflow_y": null,
            "padding": null,
            "right": null,
            "top": null,
            "visibility": null,
            "width": null
          }
        },
        "7bdfed3eaccf44aca01626ead0bfea89": {
          "model_module": "@jupyter-widgets/base",
          "model_module_version": "1.2.0",
          "model_name": "LayoutModel",
          "state": {
            "_model_module": "@jupyter-widgets/base",
            "_model_module_version": "1.2.0",
            "_model_name": "LayoutModel",
            "_view_count": null,
            "_view_module": "@jupyter-widgets/base",
            "_view_module_version": "1.2.0",
            "_view_name": "LayoutView",
            "align_content": null,
            "align_items": null,
            "align_self": null,
            "border": null,
            "bottom": null,
            "display": null,
            "flex": null,
            "flex_flow": null,
            "grid_area": null,
            "grid_auto_columns": null,
            "grid_auto_flow": null,
            "grid_auto_rows": null,
            "grid_column": null,
            "grid_gap": null,
            "grid_row": null,
            "grid_template_areas": null,
            "grid_template_columns": null,
            "grid_template_rows": null,
            "height": null,
            "justify_content": null,
            "justify_items": null,
            "left": null,
            "margin": null,
            "max_height": null,
            "max_width": null,
            "min_height": null,
            "min_width": null,
            "object_fit": null,
            "object_position": null,
            "order": null,
            "overflow": null,
            "overflow_x": null,
            "overflow_y": null,
            "padding": null,
            "right": null,
            "top": null,
            "visibility": "visible",
            "width": null
          }
        },
        "8d3ff358d6294159b1f8795a32013ee1": {
          "model_module": "@jupyter-widgets/controls",
          "model_module_version": "1.5.0",
          "model_name": "ButtonStyleModel",
          "state": {
            "_model_module": "@jupyter-widgets/controls",
            "_model_module_version": "1.5.0",
            "_model_name": "ButtonStyleModel",
            "_view_count": null,
            "_view_module": "@jupyter-widgets/base",
            "_view_module_version": "1.2.0",
            "_view_name": "StyleView",
            "button_color": null,
            "font_weight": ""
          }
        },
        "9bad4aabf1f845f181bbe6c13e018842": {
          "model_module": "@jupyter-widgets/base",
          "model_module_version": "1.2.0",
          "model_name": "LayoutModel",
          "state": {
            "_model_module": "@jupyter-widgets/base",
            "_model_module_version": "1.2.0",
            "_model_name": "LayoutModel",
            "_view_count": null,
            "_view_module": "@jupyter-widgets/base",
            "_view_module_version": "1.2.0",
            "_view_name": "LayoutView",
            "align_content": null,
            "align_items": null,
            "align_self": null,
            "border": null,
            "bottom": null,
            "display": null,
            "flex": null,
            "flex_flow": null,
            "grid_area": null,
            "grid_auto_columns": null,
            "grid_auto_flow": null,
            "grid_auto_rows": null,
            "grid_column": null,
            "grid_gap": null,
            "grid_row": null,
            "grid_template_areas": null,
            "grid_template_columns": null,
            "grid_template_rows": null,
            "height": null,
            "justify_content": null,
            "justify_items": null,
            "left": null,
            "margin": null,
            "max_height": null,
            "max_width": null,
            "min_height": null,
            "min_width": null,
            "object_fit": null,
            "object_position": null,
            "order": null,
            "overflow": null,
            "overflow_x": null,
            "overflow_y": null,
            "padding": null,
            "right": null,
            "top": null,
            "visibility": null,
            "width": null
          }
        },
        "a0e38d24d0b949ca8e6aa3de0c8e0b3e": {
          "model_module": "@jupyter-widgets/controls",
          "model_module_version": "1.5.0",
          "model_name": "HBoxModel",
          "state": {
            "_dom_classes": [],
            "_model_module": "@jupyter-widgets/controls",
            "_model_module_version": "1.5.0",
            "_model_name": "HBoxModel",
            "_view_count": null,
            "_view_module": "@jupyter-widgets/controls",
            "_view_module_version": "1.5.0",
            "_view_name": "HBoxView",
            "box_style": "",
            "children": [
              "IPY_MODEL_19c9a6a9a86c4c0c90890936e255acb5",
              "IPY_MODEL_6854cb3070324615aa3395845cf4b789"
            ],
            "layout": "IPY_MODEL_71aa20d7b9cc4211882a95064fffc62c"
          }
        },
        "b01dc56ef3be4b0fa498fa99e7eb9f01": {
          "model_module": "@jupyter-widgets/base",
          "model_module_version": "1.2.0",
          "model_name": "LayoutModel",
          "state": {
            "_model_module": "@jupyter-widgets/base",
            "_model_module_version": "1.2.0",
            "_model_name": "LayoutModel",
            "_view_count": null,
            "_view_module": "@jupyter-widgets/base",
            "_view_module_version": "1.2.0",
            "_view_name": "LayoutView",
            "align_content": null,
            "align_items": null,
            "align_self": null,
            "border": null,
            "bottom": null,
            "display": null,
            "flex": null,
            "flex_flow": null,
            "grid_area": null,
            "grid_auto_columns": null,
            "grid_auto_flow": null,
            "grid_auto_rows": null,
            "grid_column": null,
            "grid_gap": null,
            "grid_row": null,
            "grid_template_areas": null,
            "grid_template_columns": null,
            "grid_template_rows": null,
            "height": null,
            "justify_content": null,
            "justify_items": null,
            "left": null,
            "margin": null,
            "max_height": null,
            "max_width": null,
            "min_height": null,
            "min_width": null,
            "object_fit": null,
            "object_position": null,
            "order": null,
            "overflow": null,
            "overflow_x": null,
            "overflow_y": null,
            "padding": null,
            "right": null,
            "top": null,
            "visibility": null,
            "width": null
          }
        },
        "b5c273b95e58413e884e0838f99d89f6": {
          "model_module": "@jupyter-widgets/controls",
          "model_module_version": "1.5.0",
          "model_name": "ButtonModel",
          "state": {
            "_dom_classes": [],
            "_model_module": "@jupyter-widgets/controls",
            "_model_module_version": "1.5.0",
            "_model_name": "ButtonModel",
            "_view_count": null,
            "_view_module": "@jupyter-widgets/controls",
            "_view_module_version": "1.5.0",
            "_view_name": "ButtonView",
            "button_style": "primary",
            "description": "Submit Correction",
            "disabled": false,
            "icon": "",
            "layout": "IPY_MODEL_18fc2b1e093c440d9de2449050a0ee79",
            "style": "IPY_MODEL_0701d3c544914885949137c1487a518e",
            "tooltip": ""
          }
        },
        "c365668b8f444116ab3871a55049eb4a": {
          "model_module": "@jupyter-widgets/controls",
          "model_module_version": "1.5.0",
          "model_name": "VBoxModel",
          "state": {
            "_dom_classes": [],
            "_model_module": "@jupyter-widgets/controls",
            "_model_module_version": "1.5.0",
            "_model_name": "VBoxModel",
            "_view_count": null,
            "_view_module": "@jupyter-widgets/controls",
            "_view_module_version": "1.5.0",
            "_view_name": "VBoxView",
            "box_style": "",
            "children": [
              "IPY_MODEL_00ae821275c141039fcc8a974db56a85",
              "IPY_MODEL_b5c273b95e58413e884e0838f99d89f6"
            ],
            "layout": "IPY_MODEL_7bdfed3eaccf44aca01626ead0bfea89"
          }
        },
        "c59888d0d25f4352a3379e28e7c55cc4": {
          "model_module": "@jupyter-widgets/output",
          "model_module_version": "1.0.0",
          "model_name": "OutputModel",
          "state": {
            "_dom_classes": [],
            "_model_module": "@jupyter-widgets/output",
            "_model_module_version": "1.0.0",
            "_model_name": "OutputModel",
            "_view_count": null,
            "_view_module": "@jupyter-widgets/output",
            "_view_module_version": "1.0.0",
            "_view_name": "OutputView",
            "layout": "IPY_MODEL_6a415d3e404c44d8b45bea872781d6b0",
            "msg_id": "",
            "outputs": [
              {
                "name": "stdout",
                "output_type": "stream",
                "text": [
                  "🔍 Item 1: Titanium Washer M4 30mm Galvanized Fine\n",
                  "💡 Suggested Match: Titanium Washer M4 30mm Galvanized Fine (Score: 100.0)\n"
                ]
              },
              {
                "data": {
                  "application/vnd.jupyter.widget-view+json": {
                    "model_id": "a0e38d24d0b949ca8e6aa3de0c8e0b3e",
                    "version_major": 2,
                    "version_minor": 0
                  },
                  "text/plain": "HBox(children=(Button(button_style='success', description='Yes', style=ButtonStyle()), Button(button_style='da…"
                },
                "metadata": {},
                "output_type": "display_data"
              },
              {
                "data": {
                  "application/vnd.jupyter.widget-view+json": {
                    "model_id": "c365668b8f444116ab3871a55049eb4a",
                    "version_major": 2,
                    "version_minor": 0
                  },
                  "text/plain": "VBox(children=(Text(value='', placeholder='Enter correct match here'), Button(button_style='primary', descript…"
                },
                "metadata": {},
                "output_type": "display_data"
              }
            ]
          }
        },
        "f01d565d7f474201a45d802771f7eb6a": {
          "model_module": "@jupyter-widgets/controls",
          "model_module_version": "1.5.0",
          "model_name": "FileUploadModel",
          "state": {
            "_counter": 1,
            "_dom_classes": [],
            "_model_module": "@jupyter-widgets/controls",
            "_model_module_version": "1.5.0",
            "_model_name": "FileUploadModel",
            "_view_count": null,
            "_view_module": "@jupyter-widgets/controls",
            "_view_module_version": "1.5.0",
            "_view_name": "FileUploadView",
            "accept": ".pdf",
            "button_style": "",
            "data": [
              null
            ],
            "description": "Upload",
            "description_tooltip": null,
            "disabled": false,
            "error": "",
            "icon": "upload",
            "layout": "IPY_MODEL_b01dc56ef3be4b0fa498fa99e7eb9f01",
            "metadata": [
              {
                "lastModified": 1745959424828,
                "name": "Hard - 2.pdf",
                "size": 204424,
                "type": "application/pdf"
              }
            ],
            "multiple": false,
            "style": "IPY_MODEL_207164775dca4d3cb5c100700353b7c9"
          }
        }
      }
    }
  },
  "nbformat": 4,
  "nbformat_minor": 0
}
